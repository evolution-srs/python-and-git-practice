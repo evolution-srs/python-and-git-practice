{
 "cells": [
  {
   "cell_type": "markdown",
   "id": "9c261b84",
   "metadata": {},
   "source": [
    "\n",
    "## Common HTML Elements\n",
    "\n",
    "### Objectives\n",
    "After completing this reading section, you will be able to:\n",
    "\n",
    "* Use titles and headings to label information\n",
    "* Insert text using the paragraph element\n",
    "* Insert line breaks on a page\n",
    "* Add links to different sections of a page and other pages\n",
    "* Create a list of items\n",
    "* Add a table of data\n",
    "* Insert an image\n",
    "\n",
    "#### HTML Set-up\n",
    "\n",
    "1. All HTML doc code start with 'DOCTYPE' \n",
    "2. Entire content enclosed within an <html> tag \n",
    "3. Within this tag, the content is further segregated into either the **head** or **body** elements of the code.\n",
    "4. The **head** tag contains all the metadata about the page.\n",
    "5. **body** tag contains the content that is displayed to the end user.\n",
    "As per this setup, an empty HTML document without content or metadata should look as follows:"
   ]
  },
  {
   "cell_type": "code",
   "execution_count": null,
   "id": "8c11466f",
   "metadata": {},
   "outputs": [],
   "source": [
    "%%html\n",
    "<!DOCTYPE html>\n",
    "<html>\n",
    "    <head>\n",
    "        <!-- Metadata goes here -->\n",
    "    </head>\n",
    "    <body>\n",
    "        <!-- Content goes here -->\n",
    "    </body>\n",
    "</html>"
   ]
  },
  {
   "cell_type": "markdown",
   "id": "c5d8e7b8",
   "metadata": {},
   "source": [
    "#### Browser Tab Title\n",
    "<p>\n",
    "The title of the page appears on the browser tab when you open a webpage in the browser. For example, if you open Google in a new tab, the browser title will display as “Google” along with the Google logo.\n",
    "\n",
    "You can define the browser title using the **title** tag, which is placed within the **head** section of your HTML markup as follows:</p>"
   ]
  },
  {
   "cell_type": "code",
   "execution_count": null,
   "id": "b750b4de",
   "metadata": {},
   "outputs": [],
   "source": [
    "%%html\n",
    "<body>\n",
    "    <h1>Most Important (and Largest) Heading</h1>\n",
    "    <h6>Least Important (and Smallest) Heading</h6>\n",
    "</body>"
   ]
  },
  {
   "cell_type": "markdown",
   "id": "5e46eb9e",
   "metadata": {},
   "source": [
    "#### Page Headings\n",
    "\n",
    "* To separate information into different sections use headings, as can be seen in this reading.\n",
    "\n",
    "* HTML defines six different font sizes for headings. Each heading represents a different level of importance and text size.\n",
    "\n",
    "* HTML headings are defined with the following tags: **h1, h2, h3, h4, h5, h6** \n",
    "\n",
    "* The number in these tags specifies the importance, with h1 being the largest heading and h6 being the smallest heading.\n",
    "\n",
    "* Since this element defines the content within a web page, it should be placed in the **body** section of your markup as follows:"
   ]
  },
  {
   "cell_type": "code",
   "execution_count": null,
   "id": "77fd8bf0",
   "metadata": {},
   "outputs": [],
   "source": [
    "%%html\n",
    "<body>\n",
    "    <h1>Most Important (and Largest) Heading</h1>\n",
    "    <h6>Least Important (and Smallest) Heading</h6>\n",
    "</body>"
   ]
  },
  {
   "cell_type": "markdown",
   "id": "3950fe06",
   "metadata": {},
   "source": [
    "<h3> Adding Text </h3>\n",
    "\n",
    "<p>\n",
    "The <b>p</b> tag should be used to insert text into your HTML document. This element stands for paragraph and includes any text content, whether it is a single word or a 10-page essay.</p>\n",
    "\n",
    "* Since this element defines content within a web page, it should be placed in the <body> section of your markup as follows:"
   ]
  },
  {
   "cell_type": "code",
   "execution_count": null,
   "id": "000ce817",
   "metadata": {},
   "outputs": [],
   "source": [
    "%%html\n",
    "<bod\n",
    "    <h1>Most Important (and Largest) Heading</h1>\n",
    "    <p>This is some text. The content within this paragraph element can be as short or as long as needed.</p>\n",
    "    <h6>Least Important (and Smallest) Heading</h6>\n",
    "    <p>This is another paragraph of text.</p>\n",
    "</body>"
   ]
  },
  {
   "cell_type": "markdown",
   "id": "cdb319fb",
   "metadata": {},
   "source": [
    "#### Using Line Breaks\n",
    "<p>\n",
    "A line break<b> br </b> tag is used to complete one line and continue the remaining text\n",
    "at the start of a new line, like what was just done here.\n",
    "\n",
    "This can be useful in many scenarios, such as when writing addresses. You can use the br tag to insert a line break in HTML. This is not a container tag and therefore does not have an end tag."
   ]
  },
  {
   "cell_type": "code",
   "execution_count": null,
   "id": "11439b67",
   "metadata": {},
   "outputs": [],
   "source": [
    "%%html\n",
    "<body>\n",
    "    <p>This is some text that needs to be split up <br>here, <br>here, and <br>here.</p>\n",
    "</body>"
   ]
  },
  {
   "cell_type": "markdown",
   "id": "bc82af88",
   "metadata": {},
   "source": [
    "#### Add Links to Other Pages\n",
    "<p>\n",
    "Web pages can link to other pages or other places on the same page via a hyperlink. <br>\n",
    "The <b> a herf= </b> tag defines a hyperlink in HTML, the href attribute will define the destination address of the hyperlink.\n",
    "\n",
    "Hyperlinks are normally inserted into text so that when you click some hyperlinked text, it takes you to the destination. <br> For example, if you want to hyperlink the word “IBM” to the official IBM website, you can use the <a> tag with the href attribute as shown below:"
   ]
  },
  {
   "cell_type": "code",
   "execution_count": null,
   "id": "042f866d",
   "metadata": {},
   "outputs": [],
   "source": [
    "%%html\n",
    "<a href=\"https://www.ibm.com\">IBM</a>"
   ]
  },
  {
   "cell_type": "markdown",
   "id": "db7d989e",
   "metadata": {},
   "source": [
    "* If you want a hyperlink to open a certain destination in a new tab, you can do so by adding **target=\"_blank\"** to the a tag as follows:"
   ]
  },
  {
   "cell_type": "code",
   "execution_count": null,
   "id": "a9e66940",
   "metadata": {},
   "outputs": [],
   "source": [
    "\n",
    "%%html\n",
    "<a href=\"https://www.ibm.com\" target=\"_blank\">IBM</a>"
   ]
  },
  {
   "cell_type": "markdown",
   "id": "9d35dbdd",
   "metadata": {},
   "source": [
    "* Hyperlinks are also able to link to:\n",
    "    * other places on the same page. You can link to the top of the current page in either of the following two ways:\n",
    "    * To link to a different section of the page, you can use the id of the section you want to link to, as follows:"
   ]
  },
  {
   "cell_type": "code",
   "execution_count": null,
   "id": "cec95b66",
   "metadata": {},
   "outputs": [],
   "source": [
    "%%html\n",
    "<a href=\"#\">Top of Page</a>\n",
    "<a href=\"#top\">Top of Page</a>\n",
    "\n",
    "<! or >\n",
    "\n",
    "<a href=\"#section\">Link to section</a>\n",
    "\n",
    "<! or >\n",
    "\n",
    "<h1 id=\"section\">Section</h1>"
   ]
  },
  {
   "cell_type": "markdown",
   "id": "2b2a24bc",
   "metadata": {},
   "source": [
    "#### Create a List\n",
    "\n",
    "* To create a list of items, you can use the **ol** (ordered list) tag for numbered lists and the **ul** (unordered list) tag for bulleted lists.\n",
    "\n",
    "Each point within a list will be enclosed by a **li** opening and closing tag, which represents a list item. This same tag is used for both ordered and unordered lists."
   ]
  },
  {
   "cell_type": "code",
   "execution_count": null,
   "id": "649952fc",
   "metadata": {},
   "outputs": [],
   "source": [
    "%%HTML\n",
    "<!-- Unordered List -->\n",
    "<ul>\n",
    "    <li>This is a bullet point </li>\n",
    "    <li>The items in this list have no particular order </li>\n",
    "    <li>Each item will appear as a bullet, rather than a number </li>\n",
    "</ul>\n",
    "<!-- Ordered List -->\n",
    "<ol>\n",
    "    <li>This is an ordered list </li>\n",
    "    <li>The items in this list have a particular order </li>\n",
    "    <li>Each item will be numbered, starting from 1 </li>\n",
    "    <li>This is the fourth point in the list </li>\n",
    "</ol>"
   ]
  },
  {
   "cell_type": "markdown",
   "id": "58cde2ce",
   "metadata": {},
   "source": [
    "#### Add a Table\n",
    "\n",
    "* Tables are often required to format data, as shown below.\n",
    "\n",
    "* A table is created with HTML using the **table** tag. Within the table.\n",
    "* Each row of data is represented using the **tr** (table row) tag.\n",
    "* The column or row headings can be specified by the **th** (table heading) element.\n",
    "* Each data element within the table cells is specified using the **td** (table data) tag."
   ]
  },
  {
   "cell_type": "code",
   "execution_count": 1,
   "id": "72699969",
   "metadata": {},
   "outputs": [
    {
     "data": {
      "text/html": [
       "<table>\n",
       "    <tr>\n",
       "        <th>Heading 1</th>\n",
       "        <th>Heading 2</th>\n",
       "        <th>Heading 3</th>\n",
       "    </tr>\n",
       "    <tr>\n",
       "        <td>H1 - Data Item 1</td>\n",
       "        <td>H2 - Data Item 1</td>\n",
       "        <td>H3 - Data Item 1</td>\n",
       "    </tr>\n",
       "    <tr>\n",
       "        <td>H1 - Data Item 2</td>\n",
       "        <td>H2 - Data Item 2</td>\n",
       "        <td>H3 - Data Item 2</td>\n",
       "    </tr>\n",
       "    <tr>\n",
       "        <td>H1 - Data Item 3</td>\n",
       "        <td>H2 - Data Item 3</td>\n",
       "        <td>H3 - Data Item 3</td>\n",
       "    </tr>\n",
       "</table>\n"
      ],
      "text/plain": [
       "<IPython.core.display.HTML object>"
      ]
     },
     "metadata": {},
     "output_type": "display_data"
    }
   ],
   "source": [
    "%%HTML\n",
    "<table>\n",
    "    <tr>\n",
    "        <th>Heading 1</th>\n",
    "        <th>Heading 2</th>\n",
    "        <th>Heading 3</th>\n",
    "    </tr>\n",
    "    <tr>\n",
    "        <td>H1 - Data Item 1</td>\n",
    "        <td>H2 - Data Item 1</td>\n",
    "        <td>H3 - Data Item 1</td>\n",
    "    </tr>\n",
    "    <tr>\n",
    "        <td>H1 - Data Item 2</td>\n",
    "        <td>H2 - Data Item 2</td>\n",
    "        <td>H3 - Data Item 2</td>\n",
    "    </tr>\n",
    "    <tr>\n",
    "        <td>H1 - Data Item 3</td>\n",
    "        <td>H2 - Data Item 3</td>\n",
    "        <td>H3 - Data Item 3</td>\n",
    "    </tr>\n",
    "</table>"
   ]
  },
  {
   "cell_type": "markdown",
   "id": "e46467f8",
   "metadata": {},
   "source": [
    "#### Add an Image\n",
    "\n",
    "* Adding Image by using **ing** tag. Both external images (for instance, from the internet) and local images (for instance, files saved on your computer) can be used in this tag.\n",
    "\n",
    "* To add an image, you need to know the image file name and include it in the ‘src’ attribute. The ‘src’ attribute specifies an external resource that you want to link, such as the URL of an image.\n",
    "\n",
    "* For a file online, you can insert the URL of the image in this attribute.\n",
    "\n",
    "* For a local image, you should insert the file path of the image relative to the location of your HTML file.\n",
    "\n",
    "The **img** tag also requires the **‘alt’ attribute**, which defines alternative text to be displayed in the event the image cannot be loaded and when a screen reader is used.\n",
    "\n",
    "The size of an image can also (optionally) be specified using the **‘width’ and ‘height’** attributes, with the numbers listed in pixels."
   ]
  },
  {
   "cell_type": "code",
   "execution_count": null,
   "id": "d32271b1",
   "metadata": {},
   "outputs": [],
   "source": [
    "%%HTML\n",
    "<!-- External Image -->\n",
    "<img src=\"https://upload.wikimedia.org/wikipedia/commons/thumb/5/51/IBM_logo.svg/440px-IBM_logo.svg.png\" alt=\"IBM Logo\" width=\"300\" height=\"300\">\n",
    "<!-- Local Images -->\n",
    "<img src=\"images/IBMlogo.png\" alt=\"IBM Logo\" width=\"300\" height=\"300\">"
   ]
  }
 ],
 "metadata": {
  "kernelspec": {
   "display_name": "html5",
   "language": "python",
   "name": "python3"
  },
  "language_info": {
   "codemirror_mode": {
    "name": "ipython",
    "version": 3
   },
   "file_extension": ".py",
   "mimetype": "text/x-python",
   "name": "python",
   "nbconvert_exporter": "python",
   "pygments_lexer": "ipython3",
   "version": "3.13.2"
  }
 },
 "nbformat": 4,
 "nbformat_minor": 5
}
