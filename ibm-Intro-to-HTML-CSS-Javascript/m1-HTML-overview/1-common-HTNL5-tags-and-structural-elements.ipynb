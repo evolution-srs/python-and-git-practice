{
 "cells": [
  {
   "cell_type": "markdown",
   "id": "9c261b84",
   "metadata": {},
   "source": [
    "\n",
    "## Common HTML Elements\n",
    "\n",
    "### Objectives\n",
    "After completing this reading section, you will be able to:\n",
    "\n",
    "* Use titles and headings to label information\n",
    "* Insert text using the paragraph element\n",
    "* Insert line breaks on a page\n",
    "* Add links to different sections of a page and other pages\n",
    "* Create a list of items\n",
    "* Add a table of data\n",
    "* Insert an image\n",
    "\n",
    "#### HTML Set-up\n",
    "\n",
    "1. All HTML doc code start with 'DOCTYPE' \n",
    "2. Entire content enclosed within an <html> tag \n",
    "3. Within this tag, the content is further segregated into either the **head** or **body** elements of the code.\n",
    "4. The **head** tag contains all the metadata about the page.\n",
    "5. **body** tag contains the content that is displayed to the end user.\n",
    "As per this setup, an empty HTML document without content or metadata should look as follows:"
   ]
  },
  {
   "cell_type": "code",
   "execution_count": null,
   "id": "8c11466f",
   "metadata": {},
   "outputs": [],
   "source": [
    "%%html\n",
    "<h2>HTML5 Example</h2>\n",
    "<p>This is rendered as HTML in a notebook cell.</p>"
   ]
  },
  {
   "cell_type": "markdown",
   "id": "c5d8e7b8",
   "metadata": {},
   "source": [
    "#### Browser Tab Title\n",
    "<p>\n",
    "The title of the page appears on the browser tab when you open a webpage in the browser. For example, if you open Google in a new tab, the browser title will display as “Google” along with the Google logo.\n",
    "\n",
    "You can define the browser title using the **title** tag, which is placed within the **head** section of your HTML markup as follows:</p>"
   ]
  },
  {
   "cell_type": "code",
   "execution_count": null,
   "id": "16e20b79",
   "metadata": {},
   "outputs": [
    {
     "data": {
      "text/html": [
       "<h2>HTML5 Example</h2>\n",
       "<p>This is rendered as HTML in a notebook cell.</p>\n"
      ],
      "text/plain": [
       "<IPython.core.display.HTML object>"
      ]
     },
     "metadata": {},
     "output_type": "display_data"
    }
   ],
   "source": [
    "%%html\n",
    "<h2>HTML5 Example</h2>\n",
    "<p>This is rendered as HTML in a notebook cell.</p>"
   ]
  },
  {
   "cell_type": "code",
   "execution_count": null,
   "id": "b750b4de",
   "metadata": {},
   "outputs": [],
   "source": [
    "%%html\n",
    "<h2>HTML5 Example</h2>\n",
    "<p>This is rendered as HTML in a notebook cell.</p>"
   ]
  },
  {
   "cell_type": "markdown",
   "id": "ece3fa01",
   "metadata": {},
   "source": [
    "#### Page Headings\n",
    "\n",
    "* You can separate your information into different sections by using headings, as can be seen in this reading.\n",
    "* HTML defines six different font sizes for headings. Each heading represents a different level of importance and text size.\n",
    "\n",
    "* HTML headings are defined with the following tags: h1, h2, h3, h4, h5 and h6. \n",
    "\n",
    "* The number in these tags specifies the importance, with h1 being the largest heading and h6 being the smallest heading.\n",
    "\n",
    "Since this element defines the content within a web page, it should be placed in the <body> section of your markup as follows:"
   ]
  },
  {
   "cell_type": "code",
   "execution_count": null,
   "id": "77fd8bf0",
   "metadata": {},
   "outputs": [],
   "source": [
    "<body>\n",
    "    <h1>Most Important (and Largest) Heading</h1>\n",
    "    <h6>Least Important (and Smallest) Heading</h6>\n",
    "</body>"
   ]
  }
 ],
 "metadata": {
  "kernelspec": {
   "display_name": "html5",
   "language": "python",
   "name": "python3"
  },
  "language_info": {
   "codemirror_mode": {
    "name": "ipython",
    "version": 3
   },
   "file_extension": ".py",
   "mimetype": "text/x-python",
   "name": "python",
   "nbconvert_exporter": "python",
   "pygments_lexer": "ipython3",
   "version": "3.13.2"
  }
 },
 "nbformat": 4,
 "nbformat_minor": 5
}
