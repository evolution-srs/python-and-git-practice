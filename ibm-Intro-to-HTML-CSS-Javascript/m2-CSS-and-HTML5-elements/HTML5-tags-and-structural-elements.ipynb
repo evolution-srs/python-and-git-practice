{
 "cells": [
  {
   "cell_type": "markdown",
   "id": "33d2682c",
   "metadata": {},
   "source": [
    "## Follow the first assessment later to fill in this notebook"
   ]
  }
 ],
 "metadata": {
  "language_info": {
   "name": "python"
  }
 },
 "nbformat": 4,
 "nbformat_minor": 5
}
