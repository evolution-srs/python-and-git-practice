{
 "cells": [
  {
   "cell_type": "markdown",
   "id": "bf30b66c",
   "metadata": {},
   "source": [
    "<h2> CSS Basics - Styling Your Web Page</h2>\n",
    "\n",
    "<h3>Objectives</h3>\n",
    "<ul>\n",
    "<li>Understand different ways to apply CSS to HTML</li>\n",
    "<li>Create a basic web page</li>\n",
    "<li>Specify the font family and font size for text</li>\n",
    "<li>Use colors to change the appearance of elements</li>\n",
    "<li>Create borders</li>\n",
    "<li>Practice Exercises: Apply CSS and add CSS Styling to an HTML page through</li>\n",
    "</ul>\n",
    "\n",
    "### Understand different ways to apply CSS to HTML  \n",
    "\n",
    "In this exercise, you will learn about the three primary methods of applying CSS to HTML:\n",
    "* inline CSS.\n",
    "* internal CSS.\n",
    "* external CSS.\n",
    "* practice implementing each method with examples to understand their differences and use cases.\n",
    "\n",
    "#### Types of CSS and Their Descriptions\n",
    "\n",
    "1. **Inline CSS**:\n",
    "\n",
    "* Applied directly within an HTML element's style attribute\n",
    "* Ideal for quick styling of a single element  \n",
    "<br>\n",
    "* Example use case: Highlighting a specific word or line with unique styling  \n",
    "<br>\n",
    "* Pros: Simple to use for small changes\n",
    "* Cons: Difficult to maintain for larger projects; violates separation of content and style\n",
    "\n",
    "2. **Internal CSS**\n",
    "\n",
    "* Defined within the **style** tag in the **head** section of the HTML document\n",
    "* Best for styling specific to a single HTML page  \n",
    "<br>\n",
    "* Example use case: Designing a webpage where styles aren't shared across multiple pages  \n",
    "<br>\n",
    "* Pros: Allows centralized styling for one document\n",
    "* Cons: Not reusable across multiple files\n",
    "\n",
    "3. **External CSS**\n",
    "\n",
    "* Written in a separate .css file and linked to the HTML using a **link tag\n",
    "* Preferred for websites with multiple pages requiring consistent styling  \n",
    "<br>\n",
    "* Example use case: Large websites where styles are shared across pages  \n",
    "<br>\n",
    "* Pros: Promotes reusability and cleaner code; separation of concerns\n",
    "* Cons: Requires an extra HTTP request to load the CSS file"
   ]
  },
  {
   "cell_type": "markdown",
   "id": "e73133a6",
   "metadata": {},
   "source": [
    "##### **Character Encoding** / **meta charset=\"UTF-8\"**\n",
    "\n",
    "* It is one of the most important tags to put in the **<head>** section in any HTML file with out the website will display garbled text.\n",
    "* Character Encoding: It tells the web browser (or the Jupyter Notebook environment rendering the HTML) which set of characters to use when translating the binary data of the file into human-readable text.\n",
    "* UTF-8: UTF-8 is the universally recommended character encoding for the modern web. It supports almost every character and symbol in all languages, including:\n",
    "* Standard Latin letters (English).\n",
    "* Letters with accents (e.g., from French, German, Spanish).\n",
    "* Cyrillic, Arabic, Chinese, Japanese, and other writing systems.\n",
    "* Emojis (like 🤔, ✅, or 🚀)."
   ]
  },
  {
   "cell_type": "markdown",
   "id": "bcb884ac",
   "metadata": {},
   "source": [
    "<header>**Creating a resposnsive website** **Veiwport meta tag** </hader>\n",
    "\n",
    "* The line **meta name=\"viewport\" content=\"width=device-width, initial-scale=1.0\"** tells the browser how to set up the viewport (the visible area of a web page) on mobile devices:  \n",
    "| **Attribute** | **Value** | **Function** |  \n",
    "\n",
    "    |  name  |  \"viewport\"  |  Identifies this meta tag as the one that controls the viewport settings. |  \n",
    "\n",
    "    | content  | Groups |  all the configuration instructions.|  \n",
    "\n",
    "    | width  |  device-width  |  Crucial: Sets the width of the viewport to equal the actual physical width  \n",
    "     of the device's screen (in device-independent pixels).  |  \n",
    "\n",
    "    |initial-scale1  |  1.0  |  Crucial: Sets the initial zoom level when the page is first loaded by the browser. A value of 1.0 means there is no zoom, ensuring 1 CSS pixel equals 1 device-independent pixel.  |\n"
   ]
  },
  {
   "cell_type": "markdown",
   "id": "cecbe275",
   "metadata": {
    "vscode": {
     "languageId": "html"
    }
   },
   "source": [
    " <meta name=\"viewport\" content=\"width=device-width, initial-scale=1.0\">"
   ]
  },
  {
   "cell_type": "markdown",
   "id": "85b58b4e",
   "metadata": {},
   "source": [
    "<h5>Change the Color of an element</h5>\n",
    "\n",
    "* To change the background color, you use the CSS background-color property.  \n",
    "* To change an element's color, you use the color property.\n",
    "\n",
    "1. **Change the background color**  \n",
    "* To change the background color of the body of the web page, update the <body> tag as in the following code:"
   ]
  },
  {
   "cell_type": "code",
   "execution_count": null,
   "id": "c1cca248",
   "metadata": {
    "vscode": {
     "languageId": "html"
    }
   },
   "outputs": [],
   "source": [
    "<body style=\"background-color:wheat\"></body>"
   ]
  },
  {
   "cell_type": "markdown",
   "id": "922e22ef",
   "metadata": {},
   "source": [
    "\n",
    "2. **Change the font color**  \n",
    "* You specify a color for an element using a predefined color name, or by using RGB, HEX, HSL, RGBA, or HSLA values.\n",
    "* The RGB system enables you to specify a color as a combination of the primary colors red, green, and blue. RGB colors range from rgb(0,0,0), which is black, to rgb(255,255,255) which is white.\n",
    "\n",
    "Change the color of your heading using the RGB system, as follows:"
   ]
  },
  {
   "cell_type": "code",
   "execution_count": null,
   "id": "0f8f273f",
   "metadata": {
    "vscode": {
     "languageId": "html"
    }
   },
   "outputs": [],
   "source": [
    "<h1 style=\"font-family: Cursive; font-size:70px; color:rgb(139,0,0)\">Solar System</h1>"
   ]
  },
  {
   "cell_type": "markdown",
   "id": "28be89ed",
   "metadata": {},
   "source": [
    "3. **Create borders**\n",
    "* Tables created in HTML do not display a border by default.\n",
    "* Using CSS, we can apply borders to tables, **div** elements, and other tags.\n",
    "* Add a table border <p> We'll add a border to the table in your web page. The border will be solid, black, and two pixels wide.\n",
    "* By applying the following CSS code to the **table** tag:"
   ]
  },
  {
   "cell_type": "code",
   "execution_count": 9,
   "id": "d2ee289c",
   "metadata": {
    "vscode": {
     "languageId": "html"
    }
   },
   "outputs": [
    {
     "ename": "SyntaxError",
     "evalue": "invalid syntax (1121499815.py, line 1)",
     "output_type": "error",
     "traceback": [
      "  \u001b[36mCell\u001b[39m\u001b[36m \u001b[39m\u001b[32mIn[9]\u001b[39m\u001b[32m, line 1\u001b[39m\n\u001b[31m    \u001b[39m\u001b[31m<table style=\"border: 2px solid black border-radius: 10px\" >\u001b[39m\n    ^\n\u001b[31mSyntaxError\u001b[39m\u001b[31m:\u001b[39m invalid syntax\n"
     ]
    }
   ],
   "source": [
    "<table style=\"border: 2px solid black border-radius: 10px\" >"
   ]
  },
  {
   "cell_type": "markdown",
   "id": "3c55a60c",
   "metadata": {},
   "source": [
    "4. **Add a border to table headings and table cells**\n",
    "\n",
    "* CSS gives you the flexibility to add a style to multiple instances of the same HTML tag (the border will apear double line.).\n",
    "* For example, instead of specifying the style for each individual **th and td** tag, we can add a style to all of those tags using internal CSS.\n",
    "* We'll add a **style**tag within the **head** section of our page to specify how we want all **th** and **td** tags to display.\n",
    "* To apply an internal CSS style to your page, replace the <head> section with the code below:"
   ]
  },
  {
   "cell_type": "code",
   "execution_count": 10,
   "id": "23b0a42a",
   "metadata": {
    "vscode": {
     "languageId": "html"
    }
   },
   "outputs": [
    {
     "data": {
      "text/html": [
       "<head>\n",
       "    <title>Solar System</title>\n",
       "    <style>\n",
       "        table,th,td {\n",
       "            border: 2px solid black;border-radius: 10px\n",
       "        }\n",
       "    </style>\n",
       "</head>\n"
      ],
      "text/plain": [
       "<IPython.core.display.HTML object>"
      ]
     },
     "metadata": {},
     "output_type": "display_data"
    }
   ],
   "source": [
    "%%html\n",
    "<head>\n",
    "    <title>Solar System</title>\n",
    "    <style>\n",
    "        table,th,td {\n",
    "            border: 2px solid black;border-radius: 10px\n",
    "        }\n",
    "    </style>\n",
    "</head>"
   ]
  },
  {
   "cell_type": "markdown",
   "id": "fc5d89db",
   "metadata": {},
   "source": [
    "5. **Highlight the table header**\n",
    "\n",
    "* We can make the table header stand out by specifying a background-color for the entire table row.\n",
    "* By adding the style to the row, you do not need to update each individual **th** tag within the row.\n",
    "* Add a style to the first **tr** tag in the table (the header row), as follows:"
   ]
  },
  {
   "cell_type": "code",
   "execution_count": 14,
   "id": "7b3b2199",
   "metadata": {
    "vscode": {
     "languageId": "html"
    }
   },
   "outputs": [
    {
     "data": {
      "text/html": [
       "<table>\n",
       "<tr style=\"background-color:yellow\";border-radius: 20px>\n",
       "    <th>No. </th>\n",
       "    <th>Planet Name </th>\n",
       "    <th>Distance from Sun </th>\n",
       "</tr>\n",
       "</table>\n"
      ],
      "text/plain": [
       "<IPython.core.display.HTML object>"
      ]
     },
     "metadata": {},
     "output_type": "display_data"
    }
   ],
   "source": [
    "%%html\n",
    "<table>\n",
    "<tr style=\"background-color:yellow\";border-radius: 20px>\n",
    "    <th>No. </th>\n",
    "    <th>Planet Name </th>\n",
    "    <th>Distance from Sun </th>\n",
    "</tr>\n",
    "</table>"
   ]
  },
  {
   "cell_type": "markdown",
   "id": "2f913604",
   "metadata": {},
   "source": [
    "#### Practice Exercise 1: Applying CSS\n",
    "\n",
    "1. **Part 1: Inline CSS**\n",
    "\n",
    "    <ol>\n",
    "    <li>Open your HTML editor and create a new file named inline-css.html</li>\n",
    "    <li>Use the style attribute within an HTML element to apply inline CSS</li>\n",
    "    <li>Apply styles to an <**h1**> element to make the text blue and center-aligned</li>\n",
    "    <li>Add a <**p**> element with a font size of 18px and green text color</li>\n",
    "    <li>Save the file and view it in your browser</li>\n",
    "    </ol>"
   ]
  },
  {
   "cell_type": "code",
   "execution_count": 19,
   "id": "30d2f0cf",
   "metadata": {
    "vscode": {
     "languageId": "html"
    }
   },
   "outputs": [
    {
     "data": {
      "text/html": [
       "<!DOCTYPE html>\n",
       "<html lang=\"en\">\n",
       "<head>\n",
       "    <meta charset=\"UTF-8\">\n",
       "    <meta name=\"viewport\" content=\"width=device-width, initial-scale=1.0\">\n",
       "    <title>Inline CSS Example</title>\n",
       "</head>\n",
       "<body>\n",
       "    <h1 style=\"color: blue; text-align: center; text-decoration:underline\">This is a Heading</h1>\n",
       "    <p style=\"font-size: 18px; color: green;\">This paragraph is styled using inline CSS.</p>\n",
       "</body>\n",
       "</html>\n"
      ],
      "text/plain": [
       "<IPython.core.display.HTML object>"
      ]
     },
     "metadata": {},
     "output_type": "display_data"
    }
   ],
   "source": [
    "%%html\n",
    "<!DOCTYPE html>\n",
    "<html lang=\"en\">\n",
    "<head>\n",
    "    <meta charset=\"UTF-8\">\n",
    "    <meta name=\"viewport\" content=\"width=device-width, initial-scale=1.0\">\n",
    "    <title>Inline CSS Example</title>\n",
    "</head>\n",
    "<body>\n",
    "    <h1 style=\"color: blue; text-align: center; text-decoration:underline\">This is a Heading</h1>\n",
    "    <p style=\"font-size: 18px; color: green;\">This paragraph is styled using inline CSS.</p>\n",
    "</body>\n",
    "</html>"
   ]
  },
  {
   "cell_type": "markdown",
   "id": "2cb31c2e",
   "metadata": {},
   "source": [
    "2. **Part 2: Internal CSS**\n",
    "\n",
    "    1. Create a new file named **internal-css.html**\n",
    "    2. Add a <**style**> tag within the <**head**> section of the HTML document\n",
    "    3. Inside the <**style**> tag:\n",
    "    4. Style an <**h2**> element with a font-family of Verdana, sans-serif and a solid border\n",
    "    5. Style the <**ol**> and <**li**> elements so the list items have a font size of 18px and blue text color\n",
    "    6. In the <**body**> section:\n",
    "        *  Add an <**h2**> element with heading text\n",
    "        *  Add an ordered list <**ol**> with three items <**li**>\n",
    "    9. Save the file and view it in your browser"
   ]
  },
  {
   "cell_type": "code",
   "execution_count": 21,
   "id": "aed35686",
   "metadata": {
    "vscode": {
     "languageId": "html"
    }
   },
   "outputs": [
    {
     "data": {
      "text/html": [
       "<!DOCTYPE html>\n",
       "<html lang=\"en\">\n",
       "<head>\n",
       "    <meta charset=\"UTF-8\">\n",
       "    <meta name=\"viewport\" content=\"width=device-width, initial-scale=1.0\">\n",
       "    <title>Internal CSS Example</title>\n",
       "    <style>\n",
       "        h2 {font-family: Verdana, sans-serif;\n",
       "            border: 2px solid;\n",
       "        }\n",
       "        ol li {font-size: 18px;font-weight: bold;\n",
       "            color: blue; padding: 10px;\n",
       "        }\n",
       "    </style>\n",
       "</head>\n",
       "<body>\n",
       "    <h2>List of Items</h2>\n",
       "    <ol>\n",
       "        <li>Item 1</li>\n",
       "        <li>Item 2</li>\n",
       "        <li>Item 3</li>\n",
       "    </ol>\n",
       "</body>\n",
       "</html>\n"
      ],
      "text/plain": [
       "<IPython.core.display.HTML object>"
      ]
     },
     "metadata": {},
     "output_type": "display_data"
    }
   ],
   "source": [
    "%%html\n",
    "<!DOCTYPE html>\n",
    "<html lang=\"en\">\n",
    "<head>\n",
    "    <meta charset=\"UTF-8\">\n",
    "    <meta name=\"viewport\" content=\"width=device-width, initial-scale=1.0\">\n",
    "    <title>Internal CSS Example</title>\n",
    "    <style>\n",
    "        h2 {font-family: Verdana, sans-serif;\n",
    "            border: 2px solid;\n",
    "        }\n",
    "        ol li {font-size: 18px;font-weight: bold;\n",
    "            color: blue; padding: 10px;\n",
    "        }\n",
    "    </style>\n",
    "</head>\n",
    "<body>\n",
    "    <h2>List of Items</h2>\n",
    "    <ol>\n",
    "        <li>Item 1</li>\n",
    "        <li>Item 2</li>\n",
    "        <li>Item 3</li>\n",
    "    </ol>\n",
    "</body>\n",
    "</html>"
   ]
  },
  {
   "cell_type": "markdown",
   "id": "e4bbc616",
   "metadata": {},
   "source": [
    "3. **Part 3: External CSS**\n",
    "\n",
    "1. Create a new file named external-css.html\n",
    "2. Create a separate CSS file named styles.css\n",
    "3. In the styles.css file:\n",
    "    * Style the **h3** element with dark green text and left alignment\n",
    "    * Style the **table** element with a black border and a light blue background color\n",
    "4. Link the styles.css file to external-css.html using the **link** tag\n",
    "5. In the **body** section of external-css.html:\n",
    "    * Add an **h3** element with heading text\n",
    "    * Add a table element with two rows and two columns\n",
    "6. Save both files and view the external-css.html file in your browser\n",
    "\n",
    "**Note: Check the codes in the files as named in the practice in the same folder. external-css.html,styles.css**"
   ]
  },
  {
   "cell_type": "markdown",
   "id": "6f907f4e",
   "metadata": {},
   "source": [
    "#### Practice Exercise 2: Add CSS styling to an HTML page through links\n",
    "\n",
    "1. You should have completed this lab on using HTML5 strcutural elements for untis conversion. If not, you can do it now.Check the file **index.html**\n",
    "\n",
    "2. In this lab, you will add CSS styling to improve its UI.\n",
    "3. Open the file style.css\n",
    "4. Now that you have created the html file and the style sheet, link style.css to index.html.\n",
    "\n",
    "5. Add a link tag within the head tag and point it to the stylesheet"
   ]
  },
  {
   "cell_type": "code",
   "execution_count": 5,
   "id": "ed177ea9",
   "metadata": {
    "vscode": {
     "languageId": "html"
    }
   },
   "outputs": [
    {
     "data": {
      "text/html": [
       "<head>\n",
       "  <title>Document</title>\n",
       "  <link rel=\"stylesheet\" href=\"style.css\">\n",
       "</head>\n"
      ],
      "text/plain": [
       "<IPython.core.display.HTML object>"
      ]
     },
     "metadata": {},
     "output_type": "display_data"
    }
   ],
   "source": [
    "%%html\n",
    "<head>\n",
    "  <title>Document</title>\n",
    "  <link rel=\"stylesheet\" href=\"style.css\">\n",
    "</head>"
   ]
  },
  {
   "cell_type": "markdown",
   "id": "0778b386",
   "metadata": {},
   "source": [
    "6. Now that you have linked the style sheet, you can start applying the styles to the html page.\n",
    "\n",
    "7. Set the margin of all the elements to 10px on all sides and the background-color to light green in the **body attribute**\n",
    "\n",
    "8. Style the Home section **#home** (having the app name & the nav bar) to have:\n",
    "    * A margin of -1 to the top.left & right\n",
    "    * Bottom padding of 1 or 2 cm\n",
    "    * Background color to be a lighter shade of blue magenta\n",
    "\n",
    "9. Style the Header section as follows: **header**\n",
    "    * Font-size as 30 pixels\n",
    "    * Colour to be light purple\n",
    "    * Floating to the left\n",
    "    * Padding of 2 cms to the left\n",
    "\n",
    "10. The Navigation Bar Container as: **.topdiv**\n",
    "    * Floating to the right\n",
    "    * Padding of 1 cm to the right\n",
    "\n",
    "11. The Navigation Bar Buttons can have static styling as: **.topmenue**\n",
    "    * A light gray color\n",
    "    * Background color as dark purple\n",
    "    * Margin & padding of 10 pixels each. A border radius of 1mm\n",
    "    * Font size as 20 pixels\n",
    "    * Optional text decoration\n",
    "\n",
    "12. The Navigation Bar Buttons can have the below on-hover style: **.toppmenue:hover**\n",
    "    * Color as white\n",
    "    * Bolder font weight\n",
    "    * Background colour as purple\n",
    "    * Optional text decoration\n",
    "\n",
    "13. Set the values in index.html as below:\n",
    "\n",
    "* Set the value of the class attribute of the div inside inside the nav tag to topdiv\n",
    "\n",
    "* Set the value of the class attribute of the buttons inside the nav bar to topmenu\n",
    "\n",
    "* Set the value of the class attribute of the section with id temperatue to b temperature. You are setting one generic style b and a specific style temperature\n",
    "\n",
    "* Set the value of the class attribute of the section with id weight to b weight. You are setting one generic style b and a specific style weight\n",
    "\n",
    "* Set the value of the class attribute of the section with id distance to b distance. You are setting one generic style b and a specific style distance\n",
    "\n",
    "* Set the value of the class attribute of the div with id go-home to iconbutton\n",
    "\n",
    "* Once you have added all the styling to the index.html, save your changes.\n",
    "\n",
    " * Note: Kindly ensure that you complete steps 15 and 16 to update the index.html file — this is crucial for the styling to get applied.\n",
    "\n"
   ]
  },
  {
   "cell_type": "markdown",
   "id": "400cc1ec",
   "metadata": {},
   "source": [
    "## More Styling Code:\n",
    "\n",
    "1.**Button Styling:**"
   ]
  },
  {
   "cell_type": "code",
   "execution_count": null,
   "id": "d69e7090",
   "metadata": {
    "vscode": {
     "languageId": "html"
    }
   },
   "outputs": [],
   "source": [
    "\n",
    "css\n",
    "button {\n",
    "  background-color: #007BFF;\n",
    "  color: white;\n",
    "  border: none;\n",
    "  padding: 10px 20px;\n",
    "  border-radius: 5px;\n",
    "  cursor: pointer;\n",
    "  transition: background-color 0.3s ease;\n",
    "}\n",
    "\n",
    "button:hover {\n",
    "  background-color: #0056b3;\n",
    "}\n"
   ]
  },
  {
   "cell_type": "markdown",
   "id": "22924246",
   "metadata": {},
   "source": [
    "2. **Smooth Hover effects**"
   ]
  },
  {
   "cell_type": "markdown",
   "id": "affab18e",
   "metadata": {},
   "source": [
    "css\n",
    "a {\n",
    "  color: #FF6347;\n",
    "  text-decoration: none;\n",
    "  transition: color 0.3s ease;\n",
    "}\n",
    "\n",
    "a:hover {\n",
    "  color: #FF4500;\n",
    "}"
   ]
  },
  {
   "cell_type": "markdown",
   "id": "a5f52102",
   "metadata": {},
   "source": [
    "3.**Responsive Grid Layout**"
   ]
  },
  {
   "cell_type": "markdown",
   "id": "ba80c0f7",
   "metadata": {},
   "source": [
    "css\n",
    ".container {\n",
    "  display: grid;\n",
    "  grid-template-columns: repeat(auto-fit, minmax(200px, 1fr));\n",
    "  gap: 20px;\n",
    "}\n",
    "\n",
    ".card {\n",
    "  background-color: #ffffff;\n",
    "  border: 1px solid #ddd;\n",
    "  border-radius: 8px;\n",
    "  padding: 15px;\n",
    "  box-shadow: 0 4px 6px rgba(0, 0, 0, 0.1);\n",
    "}"
   ]
  },
  {
   "cell_type": "markdown",
   "id": "b5d1c8a7",
   "metadata": {},
   "source": [
    "4. CSS Animation"
   ]
  },
  {
   "cell_type": "markdown",
   "id": "3ebe74d3",
   "metadata": {},
   "source": [
    "css\n",
    "@keyframes fadeIn {\n",
    "  from {\n",
    "    opacity: 0;\n",
    "  }\n",
    "  to {\n",
    "    opacity: 1;\n",
    "  }\n",
    "}\n",
    "\n",
    ".fade-in {\n",
    "  animation: fadeIn 2s ease-in-out;\n",
    "}"
   ]
  }
 ],
 "metadata": {
  "kernelspec": {
   "display_name": "Python 3",
   "language": "python",
   "name": "python3"
  },
  "language_info": {
   "codemirror_mode": {
    "name": "ipython",
    "version": 3
   },
   "file_extension": ".py",
   "mimetype": "text/x-python",
   "name": "python",
   "nbconvert_exporter": "python",
   "pygments_lexer": "ipython3",
   "version": "3.13.2"
  }
 },
 "nbformat": 4,
 "nbformat_minor": 5
}
