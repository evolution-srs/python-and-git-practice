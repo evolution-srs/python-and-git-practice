{
 "cells": [
  {
   "cell_type": "markdown",
   "id": "1b52c79e",
   "metadata": {},
   "source": [
    "## Common HTML5 Tags and Structural Elements\n",
    "\n",
    "### Special HTML5 Elements\n",
    "\n",
    "#### Objectives:\n",
    "\n",
    "* Use common non-HTML5 specific tags\n",
    "* Differentiate between HTML5 structural elements including <section> and <article>\n",
    "* Use navigational and grouping elements\n",
    "* Use HTML5 elements specific for embedding different types of content\n",
    "* Common HTML Elements - Review\n",
    "\n",
    "    In this section, you will learn more about some common HTML elements and when to use them. You will also go through some examples of their usage for better understanding.\n",
    "\n",
    "### Using Non HTML5 Specific Tags\n",
    "\n",
    "1. **Comments**\n",
    "\n",
    "* HTML comments are used to include information in your code that is not to be displayed in your browser. This tag provides a way to document your source code and give more information about the code thus, enabling other users to understand the purpose of the code when working on a large database with other developers.\n",
    "\n",
    "To insert a comment into your code, use the comment tag <!-- [YOUR COMMENT HERE] -->, replacing [YOUR COMMENT HERE] with your comment. There are no limitations to what your comment could be, it can be text (both single-line and multi-line) or even other additional HTML tags.\n",
    "\n",
    "<div>\n",
    "\n",
    "The <div> tag defines a division of the page, and is used to group content together. Any type of content can be placed in a div tag, and it is not necessary that it should be semantically related.\n",
    "\n",
    "<div> tags are commonly used when many elements are required to have the same format. Grouping such elements together in the same <div> tag enables a developer to easily style them by either using a class or an id.\n",
    "\n",
    "When using a <div> tag, note that browsers will insert a line break before and after the element.:\n",
    "\n"
   ]
  }
 ],
 "metadata": {
  "language_info": {
   "name": "python"
  }
 },
 "nbformat": 4,
 "nbformat_minor": 5
}
