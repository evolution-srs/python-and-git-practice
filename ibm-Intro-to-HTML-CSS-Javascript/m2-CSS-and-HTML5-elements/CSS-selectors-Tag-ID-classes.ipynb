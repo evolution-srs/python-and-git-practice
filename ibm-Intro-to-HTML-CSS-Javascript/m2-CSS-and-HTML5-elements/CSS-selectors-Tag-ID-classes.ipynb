{
 "cells": [
  {
   "cell_type": "markdown",
   "id": "bf30b66c",
   "metadata": {},
   "source": [
    "##  CSS Basics - Styling Your Web Page\n",
    "\n",
    "### Objectives\n",
    "<ul>\n",
    "<li>Understand different ways to apply CSS to HTML</li>\n",
    "<li>Create a basic web page</li>\n",
    "<li>Specify the font family and font size for text</li>\n",
    "<li>Use colors to change the appearance of elements</li>\n",
    "<li>Create borders</li>\n",
    "<li>Practice Exercises: Apply CSS and add CSS Styling to an HTML page through</li>\n",
    "</ul>\n",
    "\n",
    "### Understand different ways to apply CSS to HTML  \n",
    "\n",
    "In this exercise, you will learn about the three primary methods of applying CSS to HTML:\n",
    "* inline CSS.\n",
    "* internal CSS.\n",
    "* external CSS.\n",
    "* practice implementing each method with examples to understand their differences and use cases.\n",
    "\n",
    "#### Types of CSS and Their Descriptions\n",
    "\n",
    "1. **Inline CSS**:\n",
    "\n",
    "* Applied directly within an HTML element's style attribute\n",
    "* Ideal for quick styling of a single element  \n",
    "<br>\n",
    "* Example use case: Highlighting a specific word or line with unique styling  \n",
    "<br>\n",
    "* Pros: Simple to use for small changes\n",
    "* Cons: Difficult to maintain for larger projects; violates separation of content and style\n",
    "\n",
    "2. **Internal CSS**\n",
    "\n",
    "* Defined within the **style** tag in the **head** section of the HTML document\n",
    "* Best for styling specific to a single HTML page  \n",
    "<br>\n",
    "* Example use case: Designing a webpage where styles aren't shared across multiple pages  \n",
    "<br>\n",
    "* Pros: Allows centralized styling for one document\n",
    "* Cons: Not reusable across multiple files\n",
    "\n",
    "3. External CSS\n",
    "\n",
    "* Written in a separate .css file and linked to the HTML using a **link tag\n",
    "* Preferred for websites with multiple pages requiring consistent styling  \n",
    "<br>\n",
    "* Example use case: Large websites where styles are shared across pages  \n",
    "<br>\n",
    "* Pros: Promotes reusability and cleaner code; separation of concerns\n",
    "* Cons: Requires an extra HTTP request to load the CSS file"
   ]
  },
  {
   "cell_type": "markdown",
   "id": "85b58b4e",
   "metadata": {},
   "source": [
    ". Change the color of an element\n",
    "You will now set the background color of the page and update the color of an HTML element. To change the background color, you use the CSS background-color property. To change an element's color, you use the color property.\n",
    "\n",
    "Change the background color\n",
    "To change the background color of the body of the web page, update the <body> tag as in the following code:\n",
    "\n",
    "1\n",
    "<body style=\"background-color:wheat\">\n",
    "\n",
    "Copied!\n",
    "\n",
    "Wrap Toggled!\n",
    "Change the font color\n",
    "You specify a color for an element using a predefined color name, or by using RGB, HEX, HSL, RGBA, or HSLA values.\n",
    "\n",
    "The RGB system enables you to specify a color as a combination of the primary colors red, green, and blue. RGB colors range from rgb(0,0,0), which is black, to rgb(255,255,255) which is white.\n",
    "\n",
    "Change the color of your heading using the RGB system, as follows:\n",
    "\n",
    "1\n",
    "<h1 style=\"font-family: Cursive; font-size:70px; color:rgb(139,0,0)\">Solar System</h1>"
   ]
  },
  {
   "cell_type": "markdown",
   "id": "28be89ed",
   "metadata": {},
   "source": [
    "5. **Create borders**\n",
    "Tables created in HTML do not display a border by default. Using CSS, we can apply borders to tables, **div** elements, and other tags.\n",
    "\n",
    "* Add a table border\n",
    "<p>We'll add a border to the table in your web page. The border will be solid, black, and two pixels wide.\n",
    "\n",
    "Update the <table> tag with the following CSS code:\n"
   ]
  },
  {
   "cell_type": "code",
   "execution_count": null,
   "id": "d2ee289c",
   "metadata": {
    "vscode": {
     "languageId": "html"
    }
   },
   "outputs": [],
   "source": [
    "<table style=\"border: 2px solid black\">"
   ]
  },
  {
   "cell_type": "markdown",
   "id": "3c55a60c",
   "metadata": {},
   "source": [
    "* **Add a border to table headings and table cells**\n",
    "\n",
    "* CSS gives you the flexibility to add a style to multiple instances of the same HTML tag.\n",
    "* For example, instead of specifying the style for each individual **th and td** tag, we can add a style to all of those tags using internal CSS.\n",
    "We'll add a **style**tag within the **head** section of our page to specify how we want all **th** and **td** tags to display.\n",
    "\n",
    "* To apply an internal CSS style to your page, replace the <head> section with the code below:\n"
   ]
  },
  {
   "cell_type": "code",
   "execution_count": null,
   "id": "23b0a42a",
   "metadata": {},
   "outputs": [],
   "source": [
    "%%html\n",
    "<head>\n",
    "    <title>Solar System</title>\n",
    "    <style>\n",
    "        table,th,td {\n",
    "            border: 2px solid black;\n",
    "        }\n",
    "    </style>\n",
    "</head>\n"
   ]
  },
  {
   "cell_type": "markdown",
   "id": "fc5d89db",
   "metadata": {},
   "source": [
    "* **Highlight the table header**\n",
    "\n",
    "* Finally, let's make the table header stand out by specifying a background color for the entire table row.\n",
    "* By adding the style to the row, you do not need to update each individual **th** tag within the row.\n",
    "\n",
    "Add a style to the first **tr** tag in the table (the header row), as follows:\n"
   ]
  },
  {
   "cell_type": "code",
   "execution_count": null,
   "id": "7b3b2199",
   "metadata": {
    "vscode": {
     "languageId": "html"
    }
   },
   "outputs": [],
   "source": [
    " %%html\n",
    " <tr style=\"background-color:yellow\">\n",
    "    <th>No. </th>\n",
    "    <th>Planet Name </th>\n",
    "    <th>Distance from Sun </th>\n",
    "</tr>"
   ]
  },
  {
   "cell_type": "markdown",
   "id": "2f913604",
   "metadata": {},
   "source": [
    "#### Practice Exercise 1: Applying CSS\n",
    "\n",
    "1. **Part 1: Inline CSS**\n",
    "    <ol>\n",
    "    <li>Open your HTML editor and create a new file named inline-css.html</li>\n",
    "    <li>Use the style attribute within an HTML element to apply inline CSS</li>\n",
    "    <li>Apply styles to an <**h1**> element to make the text blue and center-aligned</li>\n",
    "    <li>Add a <**p**> element with a font size of 18px and green text color</li>\n",
    "    <li>Save the file and view it in your browser</li>\n",
    "    </ol>"
   ]
  },
  {
   "cell_type": "code",
   "execution_count": null,
   "id": "30d2f0cf",
   "metadata": {
    "vscode": {
     "languageId": "html"
    }
   },
   "outputs": [],
   "source": [
    "<!DOCTYPE html>\n",
    "<html lang=\"en\">\n",
    "<head>\n",
    "    <meta charset=\"UTF-8\">\n",
    "    <meta name=\"viewport\" content=\"width=device-width, initial-scale=1.0\">\n",
    "    <title>Inline CSS Example</title>\n",
    "</head>\n",
    "<body>\n",
    "    <h1 style=\"color: blue; text-align: center;\">This is a Heading</h1>\n",
    "    <p style=\"font-size: 18px; color: green;\">This paragraph is styled using inline CSS.</p>\n",
    "</body>\n",
    "</html>"
   ]
  },
  {
   "cell_type": "markdown",
   "id": "2cb31c2e",
   "metadata": {},
   "source": [
    "2. **Part 2: Internal CSS**\n",
    "\n",
    "    1. Create a new file named **internal-css.html**\n",
    "    2. Add a <**style**> tag wit**hin the <**head**> section of the HTML document\n",
    "    3. Inside the <**style**> tag:\n",
    "    4. Style an <**h2**> element with a font-family of Verdana, sans-serif and a solid border\n",
    "    5. Style the <**ol**> and <**li**> elements so the list items have a font size of 18px and blue text color\n",
    "    6. In the <**body**> section:\n",
    "        *  Add an <**h2**> element with heading text\n",
    "        *  Add an ordered list <**ol**> with three items <**li**>\n",
    "    9. Save the file and view it in your browser"
   ]
  },
  {
   "cell_type": "code",
   "execution_count": 2,
   "id": "aed35686",
   "metadata": {
    "vscode": {
     "languageId": "html"
    }
   },
   "outputs": [
    {
     "data": {
      "text/html": [
       "<!DOCTYPE html>\n",
       "<html lang=\"en\">\n",
       "<head>\n",
       "    <meta charset=\"UTF-8\">\n",
       "    <meta name=\"viewport\" content=\"width=device-width, initial-scale=1.0\">\n",
       "    <title>Internal CSS Example</title>\n",
       "    <style>\n",
       "        h2 {\n",
       "            font-family: Verdana, sans-serif;\n",
       "            border: 2px solid;\n",
       "        }\n",
       "        ol li {\n",
       "            font-size: 18px;\n",
       "            color: blue;\n",
       "        }\n",
       "    </style>\n",
       "</head>\n",
       "<body>\n",
       "    <h2>List of Items</h2>\n",
       "    <ol>\n",
       "        <li>Item 1</li>\n",
       "        <li>Item 2</li>\n",
       "        <li>Item 3</li>\n",
       "    </ol>\n",
       "</body>\n",
       "</html>\n"
      ],
      "text/plain": [
       "<IPython.core.display.HTML object>"
      ]
     },
     "metadata": {},
     "output_type": "display_data"
    }
   ],
   "source": [
    "%%html\n",
    "<!DOCTYPE html>\n",
    "<html lang=\"en\">\n",
    "<head>\n",
    "    <meta charset=\"UTF-8\">\n",
    "    <meta name=\"viewport\" content=\"width=device-width, initial-scale=1.0\">\n",
    "    <title>Internal CSS Example</title>\n",
    "    <style>\n",
    "        h2 {\n",
    "            font-family: Verdana, sans-serif;\n",
    "            border: 2px solid;\n",
    "        }\n",
    "        ol li {\n",
    "            font-size: 18px;\n",
    "            color: blue;\n",
    "        }\n",
    "    </style>\n",
    "</head>\n",
    "<body>\n",
    "    <h2>List of Items</h2>\n",
    "    <ol>\n",
    "        <li>Item 1</li>\n",
    "        <li>Item 2</li>\n",
    "        <li>Item 3</li>\n",
    "    </ol>\n",
    "</body>\n",
    "</html>"
   ]
  },
  {
   "cell_type": "markdown",
   "id": "e4bbc616",
   "metadata": {},
   "source": [
    "3. **Part 3: External CSS**\n",
    "\n",
    "1. Create a new file named external-css.html\n",
    "2. Create a separate CSS file named styles.css\n",
    "3. In the styles.css file:\n",
    "    * Style the <**h3**> element with dark green text and left alignment\n",
    "    * Style the <**table**> element with a black border and a light blue background color\n",
    "4. Link the styles.css file to external-css.html using the <**link**> tag\n",
    "5. In the <**body**> section of external-css.html:\n",
    "    * Add an <h3> element with heading text\n",
    "    * Add a <table> element with two rows and two columns\n",
    "6. Save both files and view the external-css.html file in your browser\n",
    "\n",
    "**Note: Check the codes in the files as named in the practice in the same folder. external-css.html,styles.css**"
   ]
  },
  {
   "cell_type": "markdown",
   "id": "6f907f4e",
   "metadata": {},
   "source": [
    "#### Practice Exercise 2: Add CSS styling to an HTML page through links\n",
    "\n",
    "1. You should have completed this lab on using HTML5 strcutural elements for untis conversion. If not, you can do it now.Check the file **index.html**\n",
    "\n",
    "2. In this lab, you will add CSS styling to improve its UI.\n",
    "3. Open the file style.css\n",
    "4. Now that you have created the html file and the style sheet, link style.css to index.html.\n",
    "\n",
    "5. Add a link tag within the head tag and point it to the stylesheet"
   ]
  },
  {
   "cell_type": "code",
   "execution_count": null,
   "id": "ed177ea9",
   "metadata": {
    "vscode": {
     "languageId": "html"
    }
   },
   "outputs": [],
   "source": [
    "<head>\n",
    "  <title>Document</title>\n",
    "  <link rel=\"stylesheet\" href=\"style.css\">\n",
    "</head>"
   ]
  },
  {
   "cell_type": "markdown",
   "id": "0778b386",
   "metadata": {},
   "source": [
    "6. Now that you have linked the style sheet, you can start applying the styles to the html page.\n",
    "\n",
    "7. Set the margin of all the elements to 10px on all sides and the background-color to black in the **body attribute**\n",
    "\n",
    "8. Style the Home section **#home** (having the app name & the nav bar) to have:\n",
    "    * A margin of -1 to the top.left & right\n",
    "    * Bottom padding of 1 or 2 cm\n",
    "    * Background color to be a lighter shade of blue magenta\n",
    "\n",
    "9. Style the Header section as follows: **header**\n",
    "    * Font-size as 30 pixels\n",
    "    * Colour to be light purple\n",
    "    * Floating to the left\n",
    "    * Padding of 2 cms to the left\n",
    "\n",
    "10. The Navigation Bar Container as: **.topdiv**\n",
    "    * Floating to the right\n",
    "    * Padding of 1 cm to the right\n",
    "\n",
    "11. The Navigation Bar Buttons can have static styling as: **.topmenue**\n",
    "    * A light gray color\n",
    "    * Background color as dark purple\n",
    "    * Margin & padding of 10 pixels each. A border radius of 1mm\n",
    "    * Font size as 20 pixels\n",
    "    * Optional text decoration\n",
    "\n",
    "12. The Navigation Bar Buttons can have the below on-hover style: **.toppmenue:hover**\n",
    "    * Color as white\n",
    "    * Bolder font weight\n",
    "    * Background colour as purple\n",
    "    * Optional text decoration\n",
    "\n",
    "13. Set the values in index.html as below:\n",
    "\n",
    "* Set the value of the class attribute of the div inside inside the nav tag to topdiv\n",
    "\n",
    "* Set the value of the class attribute of the buttons inside the nav bar to topmenu\n",
    "\n",
    "* Set the value of the class attribute of the section with id temperatue to b temperature. You are setting one generic style b and a specific style temperature\n",
    "\n",
    "* Set the value of the class attribute of the section with id weight to b weight. You are setting one generic style b and a specific style weight\n",
    "\n",
    "* Set the value of the class attribute of the section with id distance to b distance. You are setting one generic style b and a specific style distance\n",
    "\n",
    "* Set the value of the class attribute of the div with id go-home to iconbutton\n",
    "\n",
    "* Once you have added all the styling to the index.html, save your changes.\n",
    "\n",
    " * Note: Kindly ensure that you complete steps 15 and 16 to update the index.html file — this is crucial for the styling to get applied.\n",
    "\n"
   ]
  }
 ],
 "metadata": {
  "kernelspec": {
   "display_name": "html5",
   "language": "python",
   "name": "python3"
  },
  "language_info": {
   "codemirror_mode": {
    "name": "ipython",
    "version": 3
   },
   "file_extension": ".py",
   "mimetype": "text/x-python",
   "name": "python",
   "nbconvert_exporter": "python",
   "pygments_lexer": "ipython3",
   "version": "3.13.2"
  }
 },
 "nbformat": 4,
 "nbformat_minor": 5
}
