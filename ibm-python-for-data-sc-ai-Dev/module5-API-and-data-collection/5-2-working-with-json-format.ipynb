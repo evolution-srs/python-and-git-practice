{
 "cells": [
  {
   "cell_type": "markdown",
   "id": "a9a9cdb1",
   "metadata": {},
   "source": [
    "### 3- Working with different file formats: \n",
    "\n",
    "**JSON file Format**\n",
    "\n",
    "**JSON (JavaScript Object Notation)** is a lightweight data-interchange format. It is easy for humans to read and write.\n",
    "\n",
    "JSON is built on two structures:\n",
    "\n",
    "* A collection of**name/value pairs**. In various languages, this is realized as an object, record, struct, dictionary, hash table, keyed list, or associative array.\n",
    "\n",
    "* An **ordered list of values**. In most languages, this is realized as an array, vector, list, or sequence.\n",
    "\n",
    "* **JSON** is a language-independent data format. It was derived from **JavaScript**, but many modern programming languages include code to generate and parse JSON-format data. It is a very common data format with a diverse range of applications.\n",
    "\n",
    "* The text in JSON is done through quoted string which contains the values in key-value mappings within { }. It is similar to the dictionary in Python.\n",
    "\n",
    "* Python supports JSON through a built-in package called json. To use this feature, we import the json package in Python script.\n"
   ]
  },
  {
   "cell_type": "code",
   "execution_count": null,
   "id": "e6c33934",
   "metadata": {
    "vscode": {
     "languageId": "plaintext"
    }
   },
   "outputs": [],
   "source": [
    "import json"
   ]
  },
  {
   "cell_type": "markdown",
   "id": "1670a752",
   "metadata": {},
   "source": [
    "1. Writing JSON to a File\n",
    "\n",
    "* This is usually called serialization. It is the process of converting an object into a special format which is suitable for transmitting over the network or storing in file or database.\n",
    "\n",
    "* To handle the data flow in a file, the JSON library in Python uses the 'dump()' or 'dumps()' function to convert the Python objects into their respective JSON object. This makes it easy to write data to files."
   ]
  },
  {
   "cell_type": "code",
   "execution_count": null,
   "id": "1424e45e",
   "metadata": {
    "vscode": {
     "languageId": "plaintext"
    }
   },
   "outputs": [],
   "source": [
    "import json\n",
    "person = {\n",
    "    'first_name' : 'Mark',\n",
    "    'last_name' : 'abc',\n",
    "    'age' : 27,\n",
    "    'address': {\n",
    "        \"streetAddress\": \"21 2nd Street\",\n",
    "        \"city\": \"New York\",\n",
    "        \"state\": \"NY\",\n",
    "        \"postalCode\": \"10021-3100\"\n",
    "    }\n",
    "}"
   ]
  },
  {
   "cell_type": "markdown",
   "id": "26039501",
   "metadata": {},
   "source": [
    "* serialization using dump() function:\n",
    "\n",
    "**json.dump()** method can be used for writing to JSON file.\n",
    "\n",
    "Syntax: **json.dump(dict, file_pointer)**\n",
    "\n",
    "Parameters:\n",
    "1. dictionary – name of the dictionary which should be converted to JSON object.\n",
    "2. file pointer – pointer of the file opened in write or append mode."
   ]
  },
  {
   "cell_type": "code",
   "execution_count": null,
   "id": "1d64035f",
   "metadata": {
    "vscode": {
     "languageId": "plaintext"
    }
   },
   "outputs": [],
   "source": [
    "with open('person.json', 'w') as f:  # writing JSON object\n",
    "    json.dump(person, f)"
   ]
  },
  {
   "cell_type": "markdown",
   "id": "64158e32",
   "metadata": {},
   "source": [
    "* serialization using dumps() function\n",
    "\n",
    "**json.dumps()** that helps in converting a dictionary to a JSON object.\n",
    "\n",
    "Syntax: **json.dump(dict, indent)**  \n",
    "parameters:\n",
    "* dictionary – name of the dictionary which should be converted to JSON object.\n",
    "* indent – defines the number of units for indentation"
   ]
  },
  {
   "cell_type": "code",
   "execution_count": null,
   "id": "4aa30204",
   "metadata": {
    "vscode": {
     "languageId": "plaintext"
    }
   },
   "outputs": [],
   "source": [
    "# Serializing json  \n",
    "json_object = json.dumps(person, indent = 4) \n",
    "  \n",
    "# Writing to sample.json \n",
    "with open(\"sample.json\", \"w\") as outfile: \n",
    "    outfile.write(json_object) \n",
    "print(json_object)"
   ]
  },
  {
   "cell_type": "markdown",
   "id": "58be755a",
   "metadata": {},
   "source": [
    "* Reading JSON to a File\n",
    "\n",
    "1. This process is usually called Deserialization - it is the reverse of serialization.\n",
    "\n",
    "2. It converts the special format returned by the serialization back into a usable object.\n"
   ]
  }
 ],
 "metadata": {
  "language_info": {
   "name": "python"
  }
 },
 "nbformat": 4,
 "nbformat_minor": 5
}
