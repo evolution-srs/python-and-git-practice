{
 "cells": [
  {
   "cell_type": "markdown",
   "id": "83052e0e",
   "metadata": {},
   "source": [
    "## Data Analysis\n",
    "\n",
    "* In this section, you will learn how to approach data acquisition in various ways and obtain necessary insights from a dataset.\n",
    "\n",
    "* By the end of this lab, you will successfully load the data into Jupyter Notebook and gain some fundamental insights via the Pandas Library.\n",
    "\n",
    "* In our case, the Diabetes Dataset is an online source and it is in CSV (comma separated value) format. Let's use this dataset as an example to practice data reading.\n",
    "\n",
    "#### Senario:\n",
    "\n",
    "* **Context**: This dataset is originally from the National Institute of Diabetes and Digestive and Kidney Diseases. \n",
    "    * The objective of the dataset is to diagnostically predict whether or not a patient has diabetes, based on certain diagnostic measurements included in the dataset.  \n",
    "    * Several constraints were placed on the selection of these instances from a larger database.  \n",
    "    * In particular, all patients here are females at least 21 years of age of Pima Indian heritage.\n",
    "\n",
    "* **Content**: The datasets consists of several medical predictor variables and one target variable, Outcome. Predictor variables includes the number of pregnancies the patient has had, their BMI, insulin level, age, and so on.\n",
    "* We have 768 rows and 9 columns. The first 8 columns represent the features and the last column represent the target/label.\n"
   ]
  },
  {
   "cell_type": "code",
   "execution_count": null,
   "id": "7cbbbd39",
   "metadata": {
    "vscode": {
     "languageId": "plaintext"
    }
   },
   "outputs": [],
   "source": [
    "# Import pandas library\n",
    "import pandas as pd\n",
    "# see the scenario in the jupyter file:\n",
    "\n",
    "\n",
    "filename = \"https://cf-courses-data.s3.us.cloud-object-storage.appdomain.cloud/IBMDeveloperSkillsNetwork-PY0101EN-SkillsNetwork/labs/Module%205/data/diabetes.csv\"\n",
    "\n",
    "# For local execution, use requests library for synchronous download\n",
    "import requests\n",
    "import os\n",
    "\n",
    "def download(url, filename):\n",
    "    response = requests.get(url)\n",
    "    if response.status_code == 200:\n",
    "        with open(filename, \"wb\") as f:\n",
    "            f.write(response.content)\n",
    "    else:\n",
    "        print(f\"Failed to download {url}. Status code: {response.status_code}\")\n",
    "\n",
    "download(filename, \"diabetes.csv\")\n",
    "df = pd.read_csv(\"diabetes.csv\")"
   ]
  },
  {
   "cell_type": "markdown",
   "id": "b2e1930f",
   "metadata": {
    "vscode": {
     "languageId": "plaintext"
    }
   },
   "source": [
    "* After reading the dataset, we can use the 'dataframe.head(n)' method to check the top n rows of the\n",
    " dataframe, where n is an integer. Contrary to 'dataframe.head(n)', 'dataframe.tail(n)' will show you the bottom n rows of the dataframe."
   ]
  },
  {
   "cell_type": "code",
   "execution_count": null,
   "id": "0b81da61",
   "metadata": {
    "vscode": {
     "languageId": "plaintext"
    }
   },
   "outputs": [],
   "source": [
    "# show the first 5 rows using dataframe.head() method\n",
    "print(\"The first 5 rows of the dataframe\") \n",
    "df.head(5)\n",
    "\n",
    "# To view the dimensions of the dataframe, we use the .shape parameter.\n",
    "print(df.shape)"
   ]
  },
  {
   "cell_type": "markdown",
   "id": "f79ea8f8",
   "metadata": {},
   "source": [
    "* **Statistical Overview of dataset**\n",
    "\n",
    "* This method prints information about a DataFrame including the index dtype and columns, non-null values and memory usage."
   ]
  },
  {
   "cell_type": "code",
   "execution_count": null,
   "id": "e4ae4ee3",
   "metadata": {
    "vscode": {
     "languageId": "plaintext"
    }
   },
   "outputs": [],
   "source": [
    "df.info()\n",
    "df.describe()"
   ]
  },
  {
   "cell_type": "markdown",
   "id": "72f7b3d8",
   "metadata": {},
   "source": [
    "* **Identify and handle missing values**\n",
    "We use Python's built-in functions to identify these missing values. There are two methods to detect missing data:\n",
    "\n",
    "**.isnull()**\n",
    "\n",
    "**.notnull()**\n",
    "\n",
    "The output is a boolean value indicating whether the value that is passed into the argument is in fact missing data."
   ]
  },
  {
   "cell_type": "code",
   "execution_count": null,
   "id": "c4d71a99",
   "metadata": {
    "vscode": {
     "languageId": "plaintext"
    }
   },
   "outputs": [],
   "source": [
    "missing_data = df.isnull()\n",
    "missing_data.head(5) # \"True\" stands for missing value, while \"False\" stands for not missing value."
   ]
  },
  {
   "cell_type": "markdown",
   "id": "dfb114dc",
   "metadata": {},
   "source": [
    "* **Count missing values in each column**\n",
    "\n",
    "* Using a for loop in Python, we can quickly figure out the number of missing values in each column. As mentioned above, \"True\" represents a missing value, \"False\"  means the value is present in the dataset.  \n",
    "\n",
    "* In the body of the for loop the method \".value_counts()\"  counts the number of \"True\" values. "
   ]
  },
  {
   "cell_type": "code",
   "execution_count": null,
   "id": "e7348e83",
   "metadata": {
    "vscode": {
     "languageId": "plaintext"
    }
   },
   "outputs": [],
   "source": [
    "for column in missing_data.columns.values.tolist():\n",
    "    print(column)\n",
    "    print (missing_data[column].value_counts())\n",
    "    print(\"\")    "
   ]
  },
  {
   "cell_type": "markdown",
   "id": "6be7ad33",
   "metadata": {},
   "source": [
    "<h3 id=\"*correct_data_format\">Correct data format</h3>\n",
    "\n",
    "<p>Check all data is in the correct format (int, float, text or other).</p>\n",
    "\n",
    "In Pandas, we use\n",
    "\n",
    "<p><b>.dtype()</b> to check the data type</p>\n",
    "<p><b>.astype()</b> to change the data type</p>\n",
    "\n",
    "Numerical variables should have type **'float'** or **'int'**.\n",
    "\n"
   ]
  },
  {
   "cell_type": "code",
   "execution_count": null,
   "id": "0d5479a4",
   "metadata": {
    "vscode": {
     "languageId": "plaintext"
    }
   },
   "outputs": [],
   "source": [
    "df.type"
   ]
  },
  {
   "cell_type": "markdown",
   "id": "2a4e8f14",
   "metadata": {},
   "source": [
    "* **Visulization**\n",
    "* **Visualization** is one of the best way to get insights from the dataset. **Seaborn** and **Matplotlib** are two of Python's most powerful visualization libraries."
   ]
  },
  {
   "cell_type": "code",
   "execution_count": null,
   "id": "ad1f5047",
   "metadata": {
    "vscode": {
     "languageId": "plaintext"
    }
   },
   "outputs": [],
   "source": [
    "# import libraries\n",
    "import matplotlib.pyplot as plt\n",
    "import seaborn as sns\n",
    "labels= 'Not Diabetic','Diabetic'\n",
    "plt.pie(df['Outcome'].value_counts(),labels=labels,autopct='%0.02f%%')\n",
    "plt.legend()\n",
    "plt.show()"
   ]
  }
 ],
 "metadata": {
  "language_info": {
   "name": "python"
  }
 },
 "nbformat": 4,
 "nbformat_minor": 5
}
