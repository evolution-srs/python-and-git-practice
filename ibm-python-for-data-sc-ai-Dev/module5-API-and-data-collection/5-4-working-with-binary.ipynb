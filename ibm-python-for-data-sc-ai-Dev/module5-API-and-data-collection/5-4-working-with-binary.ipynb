{
 "cells": [
  {
   "cell_type": "markdown",
   "id": "dd460e8b",
   "metadata": {},
   "source": [
    "### 3- Binary File Format\n",
    "\n",
    "* **Binary** files are any files where the format isn't made up of readable characters. It contain formatting information that only certain applications or processors can understand. While humans can read text files, binary files must be run on the appropriate software or processor before humans can read them.\n",
    "\n",
    "* Binary files can range from image files like JPEGs or GIFs, audio files like MP3s or binary document formats like Word or PDF.\n",
    "\n",
    "Let's see how to read an **Image** file.\n",
    "\n",
    "* Reading the **Image** file\n",
    "\n",
    "    * Python supports very powerful tools when it comes to image processing. Let's see how to process the images using the **PIL** library.\n",
    "\n",
    "    * **PIL** is the Python Imaging Library which provides the python interpreter with image editing capabilities."
   ]
  },
  {
   "cell_type": "code",
   "execution_count": null,
   "id": "783e37fd",
   "metadata": {
    "vscode": {
     "languageId": "plaintext"
    }
   },
   "outputs": [],
   "source": [
    "# importing PIL \n",
    "from PIL import Image \n",
    "\n",
    "\n",
    "import urllib.request\n",
    "urllib.request.urlretrieve(\"https://hips.hearstapps.com/hmg-prod.s3.amazonaws.com/images/dog-puppy-on-garden-royalty-free-image-1586966191.jpg\", \"dog.jpg\")\n",
    "filename = \"https://hips.hearstapps.com/hmg-prod.s3.amazonaws.com/images/dog-puppy-on-garden-royalty-free-image-1586966191.jpg\"\n",
    "import requests\n",
    "import os\n",
    "\n",
    "def download_image(url, filename):\n",
    "    response = requests.get(url)\n",
    "    if response.status_code == 200:\n",
    "        with open(filename, \"wb\") as f:\n",
    "            f.write(response.content)\n",
    "\n",
    "download_image(filename, \"./dog.jpg\")\n",
    "# Read image \n",
    "img = Image.open('./dog.jpg','r') \n",
    "  \n",
    "# Output Images \n",
    "img.show()"
   ]
  }
 ],
 "metadata": {
  "language_info": {
   "name": "python"
  }
 },
 "nbformat": 4,
 "nbformat_minor": 5
}
