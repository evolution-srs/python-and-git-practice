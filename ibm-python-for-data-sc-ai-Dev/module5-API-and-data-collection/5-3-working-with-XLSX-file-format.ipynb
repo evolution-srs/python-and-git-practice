{
 "cells": [
  {
   "cell_type": "markdown",
   "id": "f91a8839",
   "metadata": {},
   "source": [
    "### 3- Working with XLSX file format\n",
    "\n",
    "**XLSX** is a Microsoft Excel Open XML file format and it is another type of Spreadsheet file format. In XLSX data is organized under the cells and columns in a sheet.\n",
    "\n",
    "* Will use Python to load the xlsx file and define the name"
   ]
  },
  {
   "cell_type": "code",
   "execution_count": null,
   "id": "7a90b79a",
   "metadata": {
    "vscode": {
     "languageId": "plaintext"
    }
   },
   "outputs": [],
   "source": [
    "# Use Python to load the xlsx file and define the name\n",
    "import pandas as pd\n",
    "\n",
    "# for Web version un comment the following:\n",
    "# Not needed unless you're running locally\n",
    "# import urllib.request\n",
    "# urllib.request.urlretrieve(\"https://cf-courses-data.s3.us.cloud-object-storage.appdomain.cloud/IBMDeveloperSkillsNetwork-PY0101EN-SkillsNetwork/labs/Module%205/data/file_example_XLSX_10.xlsx\", \"sample.xlsx\")\n",
    "\n",
    "# filename = \"https://cf-courses-data.s3.us.cloud-object-storage.appdomain.cloud/IBMDeveloperSkillsNetwork-PY0101EN-SkillsNetwork/labs/Module%205/data/file_example_XLSX_10.xlsx\"\n",
    "\n",
    "#async def download(url, filename):\n",
    "#    response = await pyfetch(url)\n",
    "#    if response.status == 200:\n",
    "#       with open(filename, \"wb\") as f:\n",
    "#          f.write(await response.bytes())\n",
    "\n",
    "#await download(filename, \"file_example_XLSX_10.xlsx\")\n",
    "\n",
    "#df = pd.read_excel(\"file_example_XLSX_10.xlsx\") \n",
    "# print(df)"
   ]
  },
  {
   "cell_type": "code",
   "execution_count": null,
   "id": "d1f605f6",
   "metadata": {
    "vscode": {
     "languageId": "plaintext"
    }
   },
   "outputs": [],
   "source": [
    "# for VS\n",
    "import pandas as pd\n",
    "import urllib.request\n",
    "import os\n",
    "\n",
    "# Define the URL of the Excel file\n",
    "file_url = \"https://cf-courses-data.s3.us.cloud-object-storage.appdomain.cloud/IBMDeveloperSkillsNetwork-PY0101EN-SkillsNetwork/labs/Module%205/data/file_example_XLSX_10.xlsx\"\n",
    "local_filename = \"file_example_XLSX_10.xlsx\"\n",
    "\n",
    "print(f\"Starting download of '{local_filename}' from URL...\")\n",
    "\n",
    "try:\n",
    "    # Use urllib.request.urlretrieve to synchronously download the file\n",
    "    # This is the standard way to download files in a local Python environment.\n",
    "    urllib.request.urlretrieve(file_url, local_filename)\n",
    "    print(\"Download complete. File saved locally.\")\n",
    "    \n",
    "    # Read the Excel file into a pandas DataFrame\n",
    "    df = pd.read_excel(local_filename)\n",
    "    \n",
    "    print(\"\\nSuccessfully loaded DataFrame:\")\n",
    "    # Display the first 5 rows to verify the data\n",
    "    print(df.head())\n",
    "    \n",
    "    # Optional: Clean up the downloaded file after reading if desired\n",
    "    os.remove(local_filename)\n",
    "    print(f\"\\nCleaned up local file: {local_filename}\")\n",
    "\n",
    "except Exception as e:\n",
    "    print(f\"An error occurred: {e}\")\n",
    " "
   ]
  },
  {
   "cell_type": "markdown",
   "id": "d7aedc07",
   "metadata": {},
   "source": [
    "### **Working with XML file format**\n",
    "\n",
    "* **XML** is also known as Extensible Markup Language. As the name suggests, it is a markup language. It has certain rules for encoding data.\n",
    "* XML file format is a human-readable and machine-readable file format.\n",
    "* We will use other modules to read data from an XML file, and load it into a Pandas DataFrame.\n",
    "\n",
    "* **Writing with xml.etree.ElementTree**  \n",
    "\n",
    "    * The **xml.etree.ElementTree** module comes built-in with Python. It provides functionality for parsing and creating XML documents.\n",
    "    * ElementTree represents the XML document as a tree. We can move across the document using nodes which are elements and sub-elements of the XML file.\n",
    "\n",
    "For more information please read the xml.etree.ElementTree documentation.\n",
    "https://docs.python.org/3/library/xml.etree.elementtree.html?utm_medium=Exinfluencer&utm_source=Exinfluencer&utm_content=000026UJ&utm_term=10006555&utm_id=NA-SkillsNetwork-Channel-SkillsNetworkCoursesIBMDeveloperSkillsNetworkPY0101ENSkillsNetwork19487395-2021-01-01\n",
    "\n",
    "* **Create the file structure:**"
   ]
  },
  {
   "cell_type": "code",
   "execution_count": null,
   "id": "92c2a89e",
   "metadata": {
    "vscode": {
     "languageId": "plaintext"
    }
   },
   "outputs": [],
   "source": [
    "import xml.etree.ElementTree as ET\n",
    "employee = ET.Element('employee')\n",
    "details = ET.SubElement(employee, 'details')\n",
    "first = ET.SubElement(details, 'firstname')\n",
    "second = ET.SubElement(details, 'lastname')\n",
    "third = ET.SubElement(details, 'age')\n",
    "first.text = 'Shiv'\n",
    "second.text = 'Mishra'\n",
    "third.text = '23'\n"
   ]
  },
  {
   "cell_type": "markdown",
   "id": "58ce9632",
   "metadata": {
    "vscode": {
     "languageId": "plaintext"
    }
   },
   "source": [
    "\n",
    "* **Writing with xml.etree.ElementTree**"
   ]
  },
  {
   "cell_type": "code",
   "execution_count": null,
   "id": "89ab363c",
   "metadata": {
    "vscode": {
     "languageId": "plaintext"
    }
   },
   "outputs": [],
   "source": [
    "import urllib.request\n",
    "import xml.etree.ElementTree as ET\n",
    "import os\n",
    "\n",
    "# Define the URL and the local filename\n",
    "file_url = \"https://cf-courses-data.s3.us.cloud-object-storage.appdomain.cloud/IBMDeveloperSkillsNetwork-PY0101EN-SkillsNetwork/labs/Module%205/data/Sample-employee-XML-file.xml\"\n",
    "local_filename = \"Sample-employee-XML-file.xml\"\n",
    "output_filename = \"processed_employee_data.xml\"\n",
    "\n",
    "print(f\"Starting download of '{local_filename}'...\")\n",
    "\n",
    "try:\n",
    "    # Synchronously download the file using the standard Python library\n",
    "    urllib.request.urlretrieve(file_url, local_filename)\n",
    "    print(\"Download complete. File saved locally.\")\n",
    "    \n",
    "    # --- XML Parsing Example ---\n",
    "    \n",
    "    # 1. Parse the XML file\n",
    "    tree = ET.parse(local_filename)\n",
    "    root = tree.getroot()\n",
    "    \n",
    "    print(\"\\nSuccessfully parsed XML document.\")\n",
    "    print(f\"Root tag: {root.tag}\")\n",
    "    print(f\"Number of direct children (employees): {len(root)}\")\n",
    "    \n",
    "    # 2. Iterate through all 'employee' elements and print their first name\n",
    "    print(\"\\nListing first names of all employees:\")\n",
    "    for employee in root.findall('employee'):\n",
    "        first_name = employee.find('firstname').text\n",
    "        print(f\" - {first_name}\")\n",
    "\n",
    "    # 3. Corrected way to save the ElementTree object (the whole document)\n",
    "    print(f\"\\nSaving the entire parsed tree to '{output_filename}'...\")\n",
    "    \n",
    "    # The ElementTree object (tree) has a built-in .write() method.\n",
    "    # It takes the file path or a file handle as an argument.\n",
    "    with open(output_filename, \"wb\") as output_file:\n",
    "        # Use tree.write() to correctly serialize the XML structure to the file\n",
    "        tree.write(output_file, encoding='utf-8', xml_declaration=True)\n",
    "        \n",
    "    print(f\"File successfully written: '{output_filename}'\")\n",
    "\n",
    "\n",
    "except Exception as e:\n",
    "    print(f\"An error occurred during download, parsing, or saving: {e}\")\n",
    "    \n",
    "finally:\n",
    "    # Optional: Clean up the downloaded file\n",
    "    # if os.path.exists(local_filename):\n",
    "    #     os.remove(local_filename)\n",
    "    #     print(f\"\\nCleaned up local file: {local_filename}\")\n",
    "    pass\n"
   ]
  },
  {
   "cell_type": "markdown",
   "id": "49be7d9a",
   "metadata": {},
   "source": [
    "**Reading with xml.etree.ElementTree** and **Save data**  using **dataframe.to_csv()**\n",
    "    \n",
    "    *  Read XML data and put it in a Pandas DataFrame. You can see the XML file in the Notepad of your local machine."
   ]
  },
  {
   "cell_type": "code",
   "execution_count": null,
   "id": "26a05d3a",
   "metadata": {
    "vscode": {
     "languageId": "plaintext"
    }
   },
   "outputs": [],
   "source": [
    "# For Local use\n",
    "import urllib.request\n",
    "import xml.etree.ElementTree as ET\n",
    "import os\n",
    "import pandas as pd # <-- Added pandas import\n",
    "\n",
    "# Define the URL and the local filename\n",
    "file_url = \"https://cf-courses-data.s3.us.cloud-object-storage.appdomain.cloud/IBMDeveloperSkillsNetwork-PY0101EN-SkillsNetwork/labs/Module%205/data/Sample-employee-XML-file.xml\"\n",
    "local_filename = \"Sample-employee-XML-file.xml\"\n",
    "output_filename = \"employee_data.csv\" # Changed output to CSV, which is typical for DataFrames\n",
    "\n",
    "print(f\"Starting download of '{local_filename}'...\")\n",
    "\n",
    "try:\n",
    "    # Synchronously download the file using the standard Python library\n",
    "    urllib.request.urlretrieve(file_url, local_filename)\n",
    "    print(\"Download complete. File saved locally.\")\n",
    "    \n",
    "    # --- XML Parsing and DataFrame Conversion ---\n",
    "    \n",
    "    # 1. Parse the XML file and get the root\n",
    "    tree = ET.parse(local_filename)\n",
    "    root = tree.getroot()\n",
    "    \n",
    "    print(\"\\nSuccessfully parsed XML document.\")\n",
    "    print(f\"Root tag: {root.tag}\")\n",
    "    \n",
    "    # Define the columns and initialize a list to hold the extracted data\n",
    "    columns = [\"firstname\", \"lastname\", \"title\", \"division\", \"building\", \"room\"]\n",
    "    employee_data = []\n",
    "\n",
    "    # 2. Iterate through each 'employee' node and extract data\n",
    "    print(\"\\nExtracting data and building employee records...\")\n",
    "    # Use root.findall('employee') or just root if 'employee' is the direct child of the root\n",
    "    for node in root.findall('employee'): \n",
    "        record = {\n",
    "            \"firstname\": node.find(\"firstname\").text,\n",
    "            \"lastname\": node.find(\"lastname\").text,\n",
    "            \"title\": node.find(\"title\").text,\n",
    "            \"division\": node.find(\"division\").text,\n",
    "            \"building\": node.find(\"building\").text,\n",
    "            \"room\": node.find(\"room\").text\n",
    "        }\n",
    "        employee_data.append(record)\n",
    "    \n",
    "    # 3. Create the DataFrame efficiently from the list of dictionaries\n",
    "    df = pd.DataFrame(employee_data, columns=columns)\n",
    "    \n",
    "    print(\"\\nSuccessfully created DataFrame from XML data.\")\n",
    "    print(\"DataFrame Head:\")\n",
    "    print(df.head())\n",
    "\n",
    "    # 4. Save the DataFrame to a new file (CSV or Excel)\n",
    "    print(f\"\\nSaving DataFrame to '{output_filename}'...\")\n",
    "    df.to_csv(output_filename, index=False)\n",
    "    print(f\"File successfully written: '{output_filename}'\")\n",
    "\n",
    "\n",
    "except Exception as e:\n",
    "    print(f\"An error occurred during download, parsing, or saving: {e}\")\n",
    "    \n",
    "finally:\n",
    "    # Optional: Clean up the downloaded file\n",
    "     if os.path.exists(local_filename):\n",
    "         os.remove(local_filename)\n",
    "         print(f\"\\nCleaned up local file: {local_filename}\")\n",
    "pass"
   ]
  },
  {
   "cell_type": "markdown",
   "id": "6168eca4",
   "metadata": {},
   "source": [
    "* **Reading xml file using pandas.read_xml function**\n",
    "We can also read the downloaded xml file using the read_xml function present in the pandas library which returns a Dataframe object.\n",
    "\n",
    "For more information read the pandas.read_xml documentation."
   ]
  },
  {
   "cell_type": "code",
   "execution_count": null,
   "id": "d1652749",
   "metadata": {
    "vscode": {
     "languageId": "plaintext"
    }
   },
   "outputs": [],
   "source": [
    "# Herein xpath we mention the set of xml nodes to be considered for migrating  to the dataframe which in this case is details node under employees.\n",
    "df=pd.read_xml(\"Sample-employee-XML-file.xml\", xpath=\"/employees/details\") "
   ]
  },
  {
   "cell_type": "markdown",
   "id": "7a21f1f2",
   "metadata": {},
   "source": [
    "* **Save Data**\n",
    "    * Correspondingly, Pandas enables us to save the dataset to csv by using the **dataframe.to_csv()** method, you can add the file path and name along with quotation marks in the parentheses.\n",
    "\n",
    "    * For example, if you would save the dataframe df as employee.csv to your local machine, you may use the syntax below:\n",
    "\n",
    "* **Read/Save Other Data Formats**\n",
    "\n",
    "| Data Formate |        Read       |            Save |\n",
    "| ------------ | :---------------: | --------------: |\n",
    "| csv          |  `pd.read_csv()`  |   `df.to_csv()` |\n",
    "| json         |  `pd.read_json()` |  `df.to_json()` |\n",
    "| excel        | `pd.read_excel()` | `df.to_excel()` |\n",
    "| hdf          |  `pd.read_hdf()`  |   `df.to_hdf()` |\n",
    "| sql          |  `pd.read_sql()`  |   `df.to_sql()` |\n",
    "| ...          |        ...        |             ... |\n",
    "\n"
   ]
  }
 ],
 "metadata": {
  "language_info": {
   "name": "python"
  }
 },
 "nbformat": 4,
 "nbformat_minor": 5
}
