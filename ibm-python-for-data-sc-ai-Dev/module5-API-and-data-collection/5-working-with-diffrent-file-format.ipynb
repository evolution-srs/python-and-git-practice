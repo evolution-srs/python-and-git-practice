{
 "cells": [
  {
   "cell_type": "markdown",
   "id": "facd88e6",
   "metadata": {},
   "source": [
    "# Working with different file formats \n",
    "\n",
    "### Objective:\n",
    "1. Data Engineering\n",
    "2. Data Engineering Process\n",
    "3. Working with different file formats\n",
    "4. Data Analysis\n",
    "\n",
    "\n",
    "### 1- Data Engineering\n",
    "**Data Engineering:** is s one of the most critical and foundational skills in any data scientist’s toolkit.\n",
    "\n",
    "### 2- Data Engineering Process:\n",
    "\n",
    "There are several steps in Data Engineering process:\n",
    "*   Extract - Data extraction is getting data from multiple sources. Ex. Data extraction from a website using Web scraping or gathering information from the data that are stored in different formats (JSON, CSV, XLSX etc.).\n",
    "\n",
    "* Transform - Transforming the data means removing the data that we don't need for further analysis and converting the data in the format that all the data from the multiple sources is in the same format.\n",
    "\n",
    "* Load - Loading the data inside a data warehouse. Data warehouse essentially contains large volumes of data that are accessed to gather insights.\n",
    "\n",
    "### 3- Working with different file formats: \n",
    "In the real-world, people rarely get neat tabular data. Thus, it is mandatory for any data scientist\n",
    "(or data engineer) to be aware of different file formats, common challenges in handling them and the best, most efficient ways to handle this data in real life. \n",
    "\n",
    "**A file format** is a standardized method for encoding information to be stored in a computer file.\n",
    "\n",
    "1.  It specifies whether the file is binary or ASCII (text-based).\n",
    "\n",
    "2. It dictates how the information is organized within the file (e.g., the Comma-Separated Values, or CSV format, organizes tabular data as plain text).\n",
    "\n",
    "3. The file format can typically be identified by its file extension (e.g., a file named Data.csv indicates the CSV format).\n"
   ]
  }
 ],
 "metadata": {
  "language_info": {
   "name": "python"
  }
 },
 "nbformat": 4,
 "nbformat_minor": 5
}
